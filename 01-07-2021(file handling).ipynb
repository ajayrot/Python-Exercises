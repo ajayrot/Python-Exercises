{
 "cells": [
  {
   "cell_type": "code",
   "execution_count": null,
   "metadata": {},
   "outputs": [],
   "source": [
    "def digit_count_file(filename):\n",
    "    count = 0\n",
    "    for i in s:\n",
    "        if i in (filename):\n",
    "            count =count+1\n",
    "        print(\"no of filename :\",count)\n",
    "s =('python programming')"
   ]
  },
  {
   "cell_type": "code",
   "execution_count": 1,
   "metadata": {},
   "outputs": [
    {
     "name": "stdout",
     "output_type": "stream",
     "text": [
      "File is created and data written\n"
     ]
    }
   ],
   "source": [
    "def createfile(filename):\n",
    "    f =open(filename,'w')\n",
    "    for i in range(10):\n",
    "        f.write('This is line')\n",
    "    print('File is created and data written')\n",
    "    f.close()\n",
    "    return\n",
    "createfile('data.txt')"
   ]
  },
  {
   "cell_type": "code",
   "execution_count": 3,
   "metadata": {},
   "outputs": [
    {
     "name": "stdout",
     "output_type": "stream",
     "text": [
      "Data is written\n"
     ]
    }
   ],
   "source": [
    "def appenddata(filename):\n",
    "    f =open(filename,'a')\n",
    "    for i in range(10):\n",
    "        f.write('This is 1 line \\n')\n",
    "    print('Data is written')\n",
    "    f.close()\n",
    "    return\n",
    "appenddata('data.txt')\n",
    "    "
   ]
  },
  {
   "cell_type": "code",
   "execution_count": 6,
   "metadata": {},
   "outputs": [
    {
     "name": "stdout",
     "output_type": "stream",
     "text": [
      "enter file name :data.txt\n",
      "enter digit :is\n"
     ]
    },
    {
     "data": {
      "text/plain": [
       "20"
      ]
     },
     "execution_count": 6,
     "metadata": {},
     "output_type": "execute_result"
    }
   ],
   "source": [
    "def word_count(filename,word):\n",
    "    with open(filename,'r') as f:\n",
    "        if f.mode=='r':\n",
    "            x=f.read()\n",
    "            li = x.split()#its splits the string with whitespaces\n",
    "    cnt = li.count(word)\n",
    "    return cnt\n",
    "filename = input('enter file name :')\n",
    "word= input('enter digit :')\n",
    "word_count(filename,word)"
   ]
  },
  {
   "cell_type": "code",
   "execution_count": 7,
   "metadata": {},
   "outputs": [
    {
     "name": "stdout",
     "output_type": "stream",
     "text": [
      "enter file namedata.txt\n"
     ]
    },
    {
     "data": {
      "text/plain": [
       "280"
      ]
     },
     "execution_count": 7,
     "metadata": {},
     "output_type": "execute_result"
    }
   ],
   "source": [
    "#char count\n",
    "def charcount(filename):\n",
    "    with open(filename,'r') as f:\n",
    "        if f.mode=='r':\n",
    "            x= f.read()\n",
    "            li=list(x)\n",
    "    return len(li)\n",
    "filename = input('enter file name')\n",
    "charcount(filename)\n",
    "            "
   ]
  },
  {
   "cell_type": "code",
   "execution_count": 9,
   "metadata": {},
   "outputs": [
    {
     "name": "stdout",
     "output_type": "stream",
     "text": [
      "180\n"
     ]
    }
   ],
   "source": [
    "#Count Lower case letters\n",
    "def countlower():\n",
    "    file = open(\"data.txt\",\"r\")\n",
    "    data = file.read()\n",
    "    count= 0\n",
    "    for letter in data:\n",
    "        if letter.islower():\n",
    "            count += 1\n",
    "    print(count)\n",
    "countlower()"
   ]
  },
  {
   "cell_type": "code",
   "execution_count": 10,
   "metadata": {},
   "outputs": [
    {
     "name": "stdout",
     "output_type": "stream",
     "text": [
      "20\n"
     ]
    }
   ],
   "source": [
    "#count Upper case letters\n",
    "def countlower():\n",
    "    file = open(\"data.txt\",\"r\")\n",
    "    data = file.read()\n",
    "    count= 0\n",
    "    for letter in data:\n",
    "        if letter.isupper():\n",
    "            count += 1\n",
    "    print(count)\n",
    "countlower()"
   ]
  },
  {
   "cell_type": "code",
   "execution_count": 13,
   "metadata": {},
   "outputs": [
    {
     "name": "stdout",
     "output_type": "stream",
     "text": [
      "20\n"
     ]
    }
   ],
   "source": [
    "#count words ending with \"e\"\n",
    "def wordcount():\n",
    "    file = open(\"data.txt\",\"r\")\n",
    "    count = 0\n",
    "    for letter in file:\n",
    "        words = letter.split()\n",
    "        for word in words:\n",
    "            if word[-1]=='e':\n",
    "                count +=1\n",
    "    print(count)\n",
    "\n",
    "wordcount()\n",
    "    "
   ]
  },
  {
   "cell_type": "code",
   "execution_count": 16,
   "metadata": {},
   "outputs": [
    {
     "name": "stdout",
     "output_type": "stream",
     "text": [
      "is is is is is is is is is is is 1 is 1 is 1 is 1 is 1 is 1 is 1 is 1 is 1 is 1 "
     ]
    }
   ],
   "source": [
    "#display words which are less than 4 characters\n",
    "def display_words():\n",
    "        file = open(\"data.txt\",\"r\")\n",
    "        for line in file:\n",
    "            words =line.split()\n",
    "            for word in words:\n",
    "                if len(word) < 4:\n",
    "                    print(word,end= \" \")\n",
    "display_words()\n",
    "    "
   ]
  },
  {
   "cell_type": "code",
   "execution_count": null,
   "metadata": {},
   "outputs": [],
   "source": []
  }
 ],
 "metadata": {
  "kernelspec": {
   "display_name": "Python 3",
   "language": "python",
   "name": "python3"
  },
  "language_info": {
   "codemirror_mode": {
    "name": "ipython",
    "version": 3
   },
   "file_extension": ".py",
   "mimetype": "text/x-python",
   "name": "python",
   "nbconvert_exporter": "python",
   "pygments_lexer": "ipython3",
   "version": "3.8.5"
  }
 },
 "nbformat": 4,
 "nbformat_minor": 4
}
