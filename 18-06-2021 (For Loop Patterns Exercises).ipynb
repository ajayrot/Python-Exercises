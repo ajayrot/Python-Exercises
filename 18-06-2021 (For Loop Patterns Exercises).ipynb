{
 "cells": [
  {
   "cell_type": "code",
   "execution_count": 18,
   "metadata": {},
   "outputs": [
    {
     "name": "stdout",
     "output_type": "stream",
     "text": [
      "enter a number: 6\n",
      "1\n",
      "6 * 1 = 6\n",
      "2\n",
      "6 * 2 = 12\n",
      "3\n",
      "6 * 3 = 18\n",
      "4\n",
      "6 * 4 = 24\n",
      "5\n",
      "6 * 5 = 30\n",
      "6\n",
      "6 * 6 = 36\n",
      "7\n",
      "6 * 7 = 42\n",
      "8\n",
      "6 * 8 = 48\n",
      "9\n",
      "6 * 9 = 54\n",
      "10\n",
      "6 * 10 = 60\n"
     ]
    }
   ],
   "source": [
    "# input :5\n",
    "# output : 5*1=5\n",
    "#           .\n",
    "#          .\n",
    "#          . \n",
    "           \n",
    "        #5*10=50\n",
    "\n",
    "n =int(input(\"enter a number: \"))\n",
    "for i in range(1,11):\n",
    "    print(i)\n",
    "    print(n, '*' ,i, '=' , i*n)"
   ]
  },
  {
   "cell_type": "code",
   "execution_count": 23,
   "metadata": {},
   "outputs": [
    {
     "name": "stdout",
     "output_type": "stream",
     "text": [
      "enter a number of rows5\n",
      "1 \n",
      "\n",
      "1 2 \n",
      "\n",
      "1 2 3 \n",
      "\n",
      "1 2 3 4 \n",
      "\n",
      "1 2 3 4 5 \n",
      "\n"
     ]
    }
   ],
   "source": [
    "# 1\n",
    "# 1 2\n",
    "# 1 2 3\n",
    "# 1 2 3 4\n",
    "# 1 2 3 4 5\n",
    "i=int(input(\"enter a number of rows\"))\n",
    "for i in range(1, i+1):\n",
    "    for j in range(1, i+1):\n",
    "        print(j,end=' ')\n",
    "    print('\\n')\n"
   ]
  },
  {
   "cell_type": "code",
   "execution_count": 25,
   "metadata": {},
   "outputs": [
    {
     "name": "stdout",
     "output_type": "stream",
     "text": [
      "enter a number of rows6\n",
      "\n",
      "\n",
      "1 \n",
      "\n",
      "2 2 \n",
      "\n",
      "3 3 3 \n",
      "\n",
      "4 4 4 4 \n",
      "\n",
      "5 5 5 5 5 \n",
      "\n"
     ]
    }
   ],
   "source": [
    "# 1\n",
    "# 2 2\n",
    "# 3 3 3 \n",
    "# 4 4 4 4\n",
    "# 5 5 5 5 5\n",
    "n=int(input(\"enter a number of rows\"))\n",
    "for i in range(n):\n",
    "    for j in range(i):\n",
    "        print(i,end=' ')\n",
    "    print('\\n')\n",
    "\n",
    "        \n"
   ]
  },
  {
   "cell_type": "code",
   "execution_count": 28,
   "metadata": {
    "scrolled": true
   },
   "outputs": [
    {
     "name": "stdout",
     "output_type": "stream",
     "text": [
      "enter  number of rows: 5\n",
      "        * \n",
      "\n",
      "      * * \n",
      "\n",
      "    * * * \n",
      "\n",
      "  * * * * \n",
      "\n",
      "* * * * * \n",
      "\n"
     ]
    }
   ],
   "source": [
    "  \n",
    "n=int(input(\"enter  number of rows: \"))\n",
    "for i in range(1,n+1):\n",
    "    for j in range(1,n+1):\n",
    "        if i+j <=n:\n",
    "            print(' ',end=' ')\n",
    "        else:\n",
    "            print('*',end=' ')\n",
    "    print('\\n')"
   ]
  },
  {
   "cell_type": "code",
   "execution_count": null,
   "metadata": {},
   "outputs": [],
   "source": [
    "#5 5 5 5 5\n",
    "#4 4 4 4\n",
    "#3 3 3 \n",
    "#2 2\n",
    "#1\n",
    "---------------\n",
    "#5 5 5 5 5\n",
    "#5 5 5 5\n",
    "#5 5 5 \n",
    "#5 5\n",
    "#5"
   ]
  }
 ],
 "metadata": {
  "kernelspec": {
   "display_name": "Python 3",
   "language": "python",
   "name": "python3"
  },
  "language_info": {
   "codemirror_mode": {
    "name": "ipython",
    "version": 3
   },
   "file_extension": ".py",
   "mimetype": "text/x-python",
   "name": "python",
   "nbconvert_exporter": "python",
   "pygments_lexer": "ipython3",
   "version": "3.8.5"
  }
 },
 "nbformat": 4,
 "nbformat_minor": 4
}
