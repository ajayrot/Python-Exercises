{
 "cells": [
  {
   "cell_type": "code",
   "execution_count": 1,
   "metadata": {},
   "outputs": [
    {
     "name": "stdout",
     "output_type": "stream",
     "text": [
      "123\n",
      "not a palindrome\n"
     ]
    }
   ],
   "source": [
    "n=int(input())\n",
    "rev=0\n",
    "temp = n\n",
    "while n != 0:\n",
    "    r = n%10\n",
    "    rev = rev*10 + r\n",
    "    n = n //10\n",
    "if rev == temp:\n",
    "    print(\"palindrome\")\n",
    "else:\n",
    "    print(\"not a palindrome\")"
   ]
  },
  {
   "cell_type": "code",
   "execution_count": 3,
   "metadata": {},
   "outputs": [
    {
     "name": "stdout",
     "output_type": "stream",
     "text": [
      "123456789\n",
      "Nine Eight Seven Six Five Four Three Two One "
     ]
    }
   ],
   "source": [
    "# input =123 \n",
    "# output = Three two one\n",
    "#input = 1456\n",
    "# output = six five four one\n",
    "n =int(input())\n",
    "while n !=0:\n",
    "    r = n %10\n",
    "    if r ==0:\n",
    "        print('Zero')\n",
    "    elif r == 1:\n",
    "        print('One',end=' ')\n",
    "    elif r ==2:\n",
    "        print('Two',end=' ')\n",
    "    elif r == 3:\n",
    "        print('Three',end=' ')\n",
    "    elif r == 4:\n",
    "        print('Four',end=' ')\n",
    "    elif r ==5:\n",
    "        print('Five',end=' ')\n",
    "    elif r ==6:\n",
    "        print('Six',end=' ')\n",
    "    elif r ==7:\n",
    "        print('Seven',end=' ')\n",
    "    elif r ==8:\n",
    "        print('Eight',end=' ')\n",
    "    elif r == 9:\n",
    "        print('Nine',end= ' ')\n",
    "    n = n//10        \n",
    "        "
   ]
  },
  {
   "cell_type": "code",
   "execution_count": 6,
   "metadata": {},
   "outputs": [
    {
     "name": "stdout",
     "output_type": "stream",
     "text": [
      "123\n",
      "1 , 3\n"
     ]
    }
   ],
   "source": [
    "# print least and large digit of the given number\n",
    "#input = 12345678\n",
    "#output = 1,8\n",
    "a = int(input())\n",
    "smalldigit,largedigit=9,0\n",
    "while a != 0:\n",
    "    r = a %10\n",
    "    if r > largedigit :\n",
    "        largedigit = r\n",
    "    if r < smalldigit:\n",
    "        smalldigit = r\n",
    "    a = a//10\n",
    "print(smalldigit,',',largedigit)"
   ]
  },
  {
   "cell_type": "code",
   "execution_count": 7,
   "metadata": {},
   "outputs": [
    {
     "name": "stdout",
     "output_type": "stream",
     "text": [
      "0 1 2 3 4 "
     ]
    }
   ],
   "source": [
    "for i in range(5):\n",
    "    print(i,end=' ')"
   ]
  },
  {
   "cell_type": "code",
   "execution_count": 8,
   "metadata": {},
   "outputs": [
    {
     "name": "stdout",
     "output_type": "stream",
     "text": [
      "1 2 3 4 5 6 7 8 9 10 "
     ]
    }
   ],
   "source": [
    "#1 2 3 4 5 6...10\n",
    "for i in range(1,11):\n",
    "    print(i,end=' ')"
   ]
  },
  {
   "cell_type": "code",
   "execution_count": 21,
   "metadata": {},
   "outputs": [
    {
     "name": "stdout",
     "output_type": "stream",
     "text": [
      "0 2 4 6 8 10 "
     ]
    }
   ],
   "source": [
    "#2 4 6 8 10\n",
    "for i in range(0,11,2):\n",
    "     print(i,end=' ')"
   ]
  },
  {
   "cell_type": "code",
   "execution_count": 20,
   "metadata": {},
   "outputs": [
    {
     "name": "stdout",
     "output_type": "stream",
     "text": [
      "10 9 8 7 6 5 4 3 2 1 "
     ]
    }
   ],
   "source": [
    "# 10 9 8 ....1\n",
    "for i in range(10,0,-1):\n",
    "    print(i,end=' ')"
   ]
  },
  {
   "cell_type": "code",
   "execution_count": 22,
   "metadata": {},
   "outputs": [
    {
     "name": "stdout",
     "output_type": "stream",
     "text": [
      "10 15 20 25 30 35 40 45 "
     ]
    }
   ],
   "source": [
    "# 10 15 20 25 30 35 40 45---(10,50,5)\n",
    "\n",
    "for i in range(10,50,5):\n",
    "    print(i,end=' ')"
   ]
  },
  {
   "cell_type": "code",
   "execution_count": 23,
   "metadata": {},
   "outputs": [
    {
     "name": "stdout",
     "output_type": "stream",
     "text": [
      "10 8 6 4 2 "
     ]
    }
   ],
   "source": [
    "# 10 8 6 4 2 ---()\n",
    "for i in range(10,0,-2):\n",
    "    print(i,end=' ')"
   ]
  },
  {
   "cell_type": "code",
   "execution_count": null,
   "metadata": {},
   "outputs": [],
   "source": []
  }
 ],
 "metadata": {
  "kernelspec": {
   "display_name": "Python 3",
   "language": "python",
   "name": "python3"
  },
  "language_info": {
   "codemirror_mode": {
    "name": "ipython",
    "version": 3
   },
   "file_extension": ".py",
   "mimetype": "text/x-python",
   "name": "python",
   "nbconvert_exporter": "python",
   "pygments_lexer": "ipython3",
   "version": "3.8.5"
  }
 },
 "nbformat": 4,
 "nbformat_minor": 4
}
