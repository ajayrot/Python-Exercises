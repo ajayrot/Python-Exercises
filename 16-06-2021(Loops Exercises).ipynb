{
 "cells": [
  {
   "cell_type": "code",
   "execution_count": 2,
   "metadata": {},
   "outputs": [
    {
     "name": "stdout",
     "output_type": "stream",
     "text": [
      "Enter a number10\n",
      "10 9 8 7 6 5 4 3 2 1 "
     ]
    }
   ],
   "source": [
    "# input = 10\n",
    "# output = 10 9 8 ....1\n",
    "num =int(input(\"Enter a number\"))\n",
    "i=1\n",
    "while(num>=i):\n",
    "    print(num,end=\" \")\n",
    "    num =num-1"
   ]
  },
  {
   "cell_type": "code",
   "execution_count": 3,
   "metadata": {},
   "outputs": [
    {
     "name": "stdout",
     "output_type": "stream",
     "text": [
      "enter a number123\n",
      "3 2 1 "
     ]
    }
   ],
   "source": [
    "# input=123\n",
    "#output=321\n",
    "# % nd //\n",
    "q = int(input(\"enter a number\"))\n",
    "while q != 0:\n",
    "    r =q%10\n",
    "    print(r,end=' ')\n",
    "    q=q//10"
   ]
  },
  {
   "cell_type": "code",
   "execution_count": 10,
   "metadata": {},
   "outputs": [
    {
     "name": "stdout",
     "output_type": "stream",
     "text": [
      "enter a number10\n",
      "25\n"
     ]
    }
   ],
   "source": [
    "#input =10\n",
    "#output=30(2+4+6+8+10)\n",
    "n = int(input(\"enter a number\"))\n",
    "i = 1\n",
    "sum = 0\n",
    "while i<=n:\n",
    "    if i%2 != 0:\n",
    "        sum = sum+i\n",
    "    i = i+ 1\n",
    "print(sum)"
   ]
  },
  {
   "cell_type": "code",
   "execution_count": 1,
   "metadata": {},
   "outputs": [
    {
     "name": "stdout",
     "output_type": "stream",
     "text": [
      "enter number-1\n",
      "negative\n"
     ]
    }
   ],
   "source": [
    "n=int(input(\"enter number\"))\n",
    "if n==0:\n",
    "    print(\"zero\")\n",
    "elif n >0:\n",
    "    print(\"positive\")\n",
    "else:\n",
    "    print(\"negative\")"
   ]
  },
  {
   "cell_type": "code",
   "execution_count": 2,
   "metadata": {},
   "outputs": [
    {
     "name": "stdout",
     "output_type": "stream",
     "text": [
      "enter number a :7\n",
      "enter number b :8\n",
      "enter number c :10\n",
      "c is larger\n"
     ]
    }
   ],
   "source": [
    "#largest number from given 3 number \n",
    "#a=3\n",
    "#b=5\n",
    "#c=8\n",
    "#output=8\n",
    "a=int(input(\"enter number a :\"))\n",
    "b=int(input(\"enter number b :\"))\n",
    "c=int(input(\"enter number c :\"))\n",
    "if a>b and a>c:\n",
    "    print(\"a is larger\")\n",
    "\n",
    "elif b>a and b>c:\n",
    "    print(\"b is larger\")\n",
    "else:\n",
    "    print(\"c is larger\")"
   ]
  },
  {
   "cell_type": "code",
   "execution_count": null,
   "metadata": {},
   "outputs": [],
   "source": []
  }
 ],
 "metadata": {
  "kernelspec": {
   "display_name": "Python 3",
   "language": "python",
   "name": "python3"
  },
  "language_info": {
   "codemirror_mode": {
    "name": "ipython",
    "version": 3
   },
   "file_extension": ".py",
   "mimetype": "text/x-python",
   "name": "python",
   "nbconvert_exporter": "python",
   "pygments_lexer": "ipython3",
   "version": "3.8.5"
  }
 },
 "nbformat": 4,
 "nbformat_minor": 4
}
