{
 "cells": [
  {
   "cell_type": "code",
   "execution_count": 1,
   "metadata": {},
   "outputs": [
    {
     "data": {
      "text/plain": [
       "64"
      ]
     },
     "execution_count": 1,
     "metadata": {},
     "output_type": "execute_result"
    }
   ],
   "source": [
    "# Function to find the second large item value from the list\n",
    "#INPUT:[1,19,54,64,12,32,23,65]\n",
    "#OUTPUT:64\n",
    "def secondlarge(li):\n",
    "    li.sort()\n",
    "    return li[-2]\n",
    "li=[1,19,54,64,12,32,23,65]\n",
    "secondlarge(li)"
   ]
  },
  {
   "cell_type": "code",
   "execution_count": 5,
   "metadata": {},
   "outputs": [
    {
     "data": {
      "text/plain": [
       "12"
      ]
     },
     "execution_count": 5,
     "metadata": {},
     "output_type": "execute_result"
    }
   ],
   "source": [
    "# Function to find the second least item value from the list\n",
    "#INPUT:[1,19,54,64,12,32,23,65]\n",
    "#OUTPUT:12\n",
    "def  secondleast(li):\n",
    "    li.sort()\n",
    "    return li[1]\n",
    "li=[1,19,54,64,12,32,23,65]\n",
    "secondleast(li)"
   ]
  },
  {
   "cell_type": "code",
   "execution_count": 6,
   "metadata": {},
   "outputs": [
    {
     "data": {
      "text/plain": [
       "32"
      ]
     },
     "execution_count": 6,
     "metadata": {},
     "output_type": "execute_result"
    }
   ],
   "source": [
    "#function to find the nth (or) Generic large item value from the list\n",
    "#INPUT:[1,19,54,64,12,32,23,65]\n",
    "#output:32\n",
    "#n = 4\n",
    "def genericlarge(li,n):\n",
    "    li.sort()\n",
    "    return li[-n]\n",
    "li=[1,19,54,64,12,32,23,65]\n",
    "genericlarge(li,4)"
   ]
  },
  {
   "cell_type": "code",
   "execution_count": 7,
   "metadata": {},
   "outputs": [
    {
     "data": {
      "text/plain": [
       "23"
      ]
     },
     "execution_count": 7,
     "metadata": {},
     "output_type": "execute_result"
    }
   ],
   "source": [
    "#function to find the nth (or) Generic least item value from the list\n",
    "#INPUT:[1,19,54,64,12,32,23,65]\n",
    "#output:23\n",
    "#n=4\n",
    "def genericleast(li,n):\n",
    "    li.sort()\n",
    "    return li[n-1]\n",
    "li=[1,19,54,64,12,32,23,65]\n",
    "genericleast(li,4)"
   ]
  },
  {
   "cell_type": "code",
   "execution_count": 11,
   "metadata": {},
   "outputs": [
    {
     "data": {
      "text/plain": [
       "[1, 3, 6, 4, 8]"
      ]
     },
     "execution_count": 11,
     "metadata": {},
     "output_type": "execute_result"
    }
   ],
   "source": [
    "#Number to list by using function\n",
    "#input --number\n",
    "#output -- List\n",
    "#testcases\n",
    "#13648 --- [1,3,6,4,8]\n",
    "def numbertolist(n):\n",
    "    li=[]\n",
    "    while n != 0:\n",
    "        r = n%10\n",
    "        li.append(r)\n",
    "        n=n//10 #----[8,4,6,3,1]\n",
    "    li.reverse()\n",
    "    return li\n",
    "numbertolist(13648)\n",
    "    \n"
   ]
  },
  {
   "cell_type": "code",
   "execution_count": 15,
   "metadata": {},
   "outputs": [
    {
     "name": "stdout",
     "output_type": "stream",
     "text": [
      "['hello', 'world']\n"
     ]
    }
   ],
   "source": [
    "a=\"hello world\"\n",
    "s=a.split()\n",
    "\n",
    "print(s)"
   ]
  },
  {
   "cell_type": "code",
   "execution_count": 16,
   "metadata": {},
   "outputs": [
    {
     "data": {
      "text/plain": [
       "[1, 2, 3, 4, 5, 6, 7]"
      ]
     },
     "execution_count": 16,
     "metadata": {},
     "output_type": "execute_result"
    }
   ],
   "source": [
    "#function to convert string to list\n",
    "#test cases\n",
    "# \"1 2 3 4 5 6\"---[1,2,3,4,5,6]\n",
    "def stringtolist(s):\n",
    "    li=s.split()\n",
    "    numberlist =[]\n",
    "    for i in li:\n",
    "        numberlist.append(int(i))\n",
    "    return numberlist\n",
    "s=\"1 2 3 4 5 6 7\"\n",
    "stringtolist(s)"
   ]
  },
  {
   "cell_type": "markdown",
   "metadata": {},
   "source": [
    "# Tuples\n",
    "- we cannot change values in tuples\n",
    "- Tuples enclosed with parenthesis() and values divided by ,\n",
    "--------------------------------------\n",
    "# Difference between list and tuple\n",
    "- List can be changed/Modified\n",
    "    - Used to access modify,add,delete data\n",
    "- Tuple cannot be changed\n",
    "   - used to access data only\n",
    "     "
   ]
  },
  {
   "cell_type": "code",
   "execution_count": 18,
   "metadata": {},
   "outputs": [
    {
     "name": "stdout",
     "output_type": "stream",
     "text": [
      "(1, 2, 3, 4, 5, 6)\n"
     ]
    },
    {
     "data": {
      "text/plain": [
       "tuple"
      ]
     },
     "execution_count": 18,
     "metadata": {},
     "output_type": "execute_result"
    }
   ],
   "source": [
    "t1=(1,2,3,4,5,6)\n",
    "print(t1)\n",
    "type(t1)"
   ]
  },
  {
   "cell_type": "code",
   "execution_count": 19,
   "metadata": {},
   "outputs": [
    {
     "data": {
      "text/plain": [
       "(3, 4)"
      ]
     },
     "execution_count": 19,
     "metadata": {},
     "output_type": "execute_result"
    }
   ],
   "source": [
    "t1[2:4]"
   ]
  },
  {
   "cell_type": "code",
   "execution_count": 20,
   "metadata": {},
   "outputs": [
    {
     "data": {
      "text/plain": [
       "(3, 4, 5)"
      ]
     },
     "execution_count": 20,
     "metadata": {},
     "output_type": "execute_result"
    }
   ],
   "source": [
    "t1[-4:-1]"
   ]
  },
  {
   "cell_type": "code",
   "execution_count": null,
   "metadata": {},
   "outputs": [],
   "source": [
    "#t1=(7,6,5,4,3,2,2)\n",
    "#find the sum of the tuple"
   ]
  }
 ],
 "metadata": {
  "kernelspec": {
   "display_name": "Python 3",
   "language": "python",
   "name": "python3"
  },
  "language_info": {
   "codemirror_mode": {
    "name": "ipython",
    "version": 3
   },
   "file_extension": ".py",
   "mimetype": "text/x-python",
   "name": "python",
   "nbconvert_exporter": "python",
   "pygments_lexer": "ipython3",
   "version": "3.8.5"
  }
 },
 "nbformat": 4,
 "nbformat_minor": 4
}
