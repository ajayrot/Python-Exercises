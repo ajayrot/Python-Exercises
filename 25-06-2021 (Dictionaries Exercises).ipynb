{
 "cells": [
  {
   "cell_type": "code",
   "execution_count": 1,
   "metadata": {},
   "outputs": [
    {
     "name": "stdout",
     "output_type": "stream",
     "text": [
      "Contact Added\n"
     ]
    }
   ],
   "source": [
    "# define Function for add contacts\n",
    "contacts = {}\n",
    "def addcontacts(name,number):\n",
    "    if name not in contacts:\n",
    "        contacts[name] = number\n",
    "        print('Contact Added')\n",
    "    else:\n",
    "        print(\"Contact Exists\")\n",
    "    return\n",
    "addcontacts('Surya',46746589458)"
   ]
  },
  {
   "cell_type": "code",
   "execution_count": 2,
   "metadata": {},
   "outputs": [
    {
     "name": "stdout",
     "output_type": "stream",
     "text": [
      "Contact Added\n"
     ]
    }
   ],
   "source": [
    "addcontacts('Navya',146546546)"
   ]
  },
  {
   "cell_type": "code",
   "execution_count": 3,
   "metadata": {},
   "outputs": [
    {
     "name": "stdout",
     "output_type": "stream",
     "text": [
      "{'Surya': 46746589458, 'Navya': 146546546}\n"
     ]
    }
   ],
   "source": [
    "print(contacts)"
   ]
  },
  {
   "cell_type": "code",
   "execution_count": 4,
   "metadata": {},
   "outputs": [
    {
     "name": "stdout",
     "output_type": "stream",
     "text": [
      "Contact Added\n",
      "Contact Added\n",
      "Contact Added\n"
     ]
    }
   ],
   "source": [
    "addcontacts('ajay',656465346)\n",
    "addcontacts('raj',6546564654)\n",
    "addcontacts('ram',1565498749)"
   ]
  },
  {
   "cell_type": "code",
   "execution_count": 5,
   "metadata": {},
   "outputs": [
    {
     "name": "stdout",
     "output_type": "stream",
     "text": [
      "{'Surya': 46746589458, 'Navya': 146546546, 'ajay': 656465346, 'raj': 6546564654, 'ram': 1565498749}\n"
     ]
    }
   ],
   "source": [
    "print(contacts)"
   ]
  },
  {
   "cell_type": "code",
   "execution_count": 6,
   "metadata": {},
   "outputs": [
    {
     "name": "stdout",
     "output_type": "stream",
     "text": [
      "Contact Exists\n"
     ]
    }
   ],
   "source": [
    "addcontacts('ajay',656465346)\n"
   ]
  },
  {
   "cell_type": "code",
   "execution_count": 7,
   "metadata": {},
   "outputs": [
    {
     "name": "stdout",
     "output_type": "stream",
     "text": [
      "Contact Exists\n"
     ]
    }
   ],
   "source": [
    "addcontacts('ajay',1234567989)\n"
   ]
  },
  {
   "cell_type": "code",
   "execution_count": 8,
   "metadata": {
    "scrolled": true
   },
   "outputs": [
    {
     "name": "stdout",
     "output_type": "stream",
     "text": [
      "Contact Added\n"
     ]
    }
   ],
   "source": [
    "contacts = {}\n",
    "def addcontacts(name,number):\n",
    "    if number not in contacts:\n",
    "        contacts[name] = number\n",
    "        print('Contact Added')\n",
    "    else:\n",
    "        print(\"Contact Exists\")\n",
    "    return\n",
    "addcontacts('Raju',46746589458)"
   ]
  },
  {
   "cell_type": "code",
   "execution_count": 9,
   "metadata": {},
   "outputs": [
    {
     "name": "stdout",
     "output_type": "stream",
     "text": [
      "{'Raju': 46746589458}\n"
     ]
    }
   ],
   "source": [
    "print(contacts)"
   ]
  },
  {
   "cell_type": "code",
   "execution_count": 10,
   "metadata": {},
   "outputs": [
    {
     "name": "stdout",
     "output_type": "stream",
     "text": [
      "Contact Added\n"
     ]
    }
   ],
   "source": [
    "addcontacts('Raju',15546746589458)"
   ]
  },
  {
   "cell_type": "code",
   "execution_count": 11,
   "metadata": {},
   "outputs": [
    {
     "name": "stdout",
     "output_type": "stream",
     "text": [
      "{'Raju': 15546746589458}\n"
     ]
    }
   ],
   "source": [
    "print(contacts)"
   ]
  },
  {
   "cell_type": "code",
   "execution_count": 12,
   "metadata": {},
   "outputs": [
    {
     "name": "stdout",
     "output_type": "stream",
     "text": [
      "Contact Added\n"
     ]
    }
   ],
   "source": [
    "contacts = {}\n",
    "def addcontacts(name,number):\n",
    "    if name not in contacts:\n",
    "        contacts[name] = number\n",
    "        print('Contact Added')\n",
    "    else:\n",
    "        print(\"Contact Exists\")\n",
    "    return\n",
    "addcontacts('Surya',46746589458)"
   ]
  },
  {
   "cell_type": "code",
   "execution_count": 13,
   "metadata": {},
   "outputs": [
    {
     "name": "stdout",
     "output_type": "stream",
     "text": [
      "Contact Added\n",
      "Contact Added\n",
      "Contact Added\n"
     ]
    }
   ],
   "source": [
    "addcontacts('ajay',656465346)\n",
    "addcontacts('raj',6546564654)\n",
    "addcontacts('ram',1565498749)"
   ]
  },
  {
   "cell_type": "code",
   "execution_count": 14,
   "metadata": {},
   "outputs": [
    {
     "name": "stdout",
     "output_type": "stream",
     "text": [
      "{'Surya': 46746589458, 'ajay': 656465346, 'raj': 6546564654, 'ram': 1565498749}\n"
     ]
    }
   ],
   "source": [
    "print(contacts)"
   ]
  },
  {
   "cell_type": "code",
   "execution_count": 15,
   "metadata": {},
   "outputs": [
    {
     "name": "stdout",
     "output_type": "stream",
     "text": [
      "Contact is deleted\n"
     ]
    }
   ],
   "source": [
    "#Remove Contacts\n",
    "def deletecontacts(name):\n",
    "    if name in contacts:\n",
    "        del contacts[name]\n",
    "        print('Contact is deleted')\n",
    "    else:\n",
    "        print('Contact not found')\n",
    "    return\n",
    "deletecontacts('ajay')"
   ]
  },
  {
   "cell_type": "code",
   "execution_count": 16,
   "metadata": {},
   "outputs": [
    {
     "name": "stdout",
     "output_type": "stream",
     "text": [
      "{'Surya': 46746589458, 'raj': 6546564654, 'ram': 1565498749}\n"
     ]
    }
   ],
   "source": [
    "print(contacts)"
   ]
  },
  {
   "cell_type": "code",
   "execution_count": 18,
   "metadata": {},
   "outputs": [
    {
     "name": "stdout",
     "output_type": "stream",
     "text": [
      "{1: 10, 2: 20}\n",
      "{1: 10, 2: 20, 3: 30}\n"
     ]
    }
   ],
   "source": [
    "#Input d1={1:10,2:20}\n",
    "#output d1={1:10,2:20,3:30}\n",
    "#update\n",
    "d1={1:10,2:20}\n",
    "print(d1)\n",
    "d1.update({3:30})\n",
    "print(d1)"
   ]
  },
  {
   "cell_type": "code",
   "execution_count": 19,
   "metadata": {},
   "outputs": [
    {
     "name": "stdout",
     "output_type": "stream",
     "text": [
      "{1: 10, 2: 20, 3: 30, 4: 40, 5: 50, 6: 60}\n"
     ]
    }
   ],
   "source": [
    "#combine 3 dictinaries to one dictinary \n",
    "d1={1:10,2:20}\n",
    "d2={3:30,4:40}\n",
    "d3={5:50,6:60}\n",
    "d4={}\n",
    "for d in (d1,d2,d3):\n",
    "    d4.update(d)\n",
    "print(d4)"
   ]
  },
  {
   "cell_type": "code",
   "execution_count": 20,
   "metadata": {},
   "outputs": [
    {
     "name": "stdout",
     "output_type": "stream",
     "text": [
      "{1: 10, 2: 20, 3: 30, 4: 40, 5: 50, 6: 60}\n"
     ]
    }
   ],
   "source": [
    "d1={1:10,2:20}\n",
    "d2={3:30,4:40}\n",
    "d3={5:50,6:60}\n",
    "d4={**d1,**d2,**d3}\n",
    "print(d4)"
   ]
  },
  {
   "cell_type": "code",
   "execution_count": 21,
   "metadata": {},
   "outputs": [
    {
     "name": "stdout",
     "output_type": "stream",
     "text": [
      "True\n"
     ]
    }
   ],
   "source": [
    "#check 30 exist in d1\n",
    "d1={1: 10, 2: 20, 3: 30, 4: 40, 5: 50, 6: 60}\n",
    "print(30 in d1.values())"
   ]
  },
  {
   "cell_type": "code",
   "execution_count": 23,
   "metadata": {},
   "outputs": [
    {
     "name": "stdout",
     "output_type": "stream",
     "text": [
      "False\n"
     ]
    }
   ],
   "source": [
    "print(9 in d1.keys())"
   ]
  },
  {
   "cell_type": "code",
   "execution_count": 25,
   "metadata": {},
   "outputs": [
    {
     "name": "stdout",
     "output_type": "stream",
     "text": [
      "{'Name': 'Raj', 'Age': '30', 'city': 'Hyderabad'}\n",
      "{'Name': 'Raj', 'Age': '30', 'location': 'Hyderabad'}\n"
     ]
    }
   ],
   "source": [
    "d1={'Name':'Raj','Age':'30','city':'Hyderabad'}\n",
    "print(d1)\n",
    "d1['location']=d1.pop('city')\n",
    "\n",
    "print(d1)"
   ]
  },
  {
   "cell_type": "code",
   "execution_count": 30,
   "metadata": {},
   "outputs": [
    {
     "name": "stdout",
     "output_type": "stream",
     "text": [
      "{5: 50, 6: 100}\n"
     ]
    }
   ],
   "source": [
    "d1={1:10,2:20}\n",
    "d2={3:30,4:40}\n",
    "d3={5:50,6:60}\n",
    "#output d3={5:50,6:100}\n",
    "d3[6]=100\n",
    "print(d3)"
   ]
  },
  {
   "cell_type": "code",
   "execution_count": 32,
   "metadata": {},
   "outputs": [
    {
     "name": "stdout",
     "output_type": "stream",
     "text": [
      "{'emp1': {'name': 'RAj', 'salary': '20000'}, 'emp2': {'name': 'Navya', 'salary': 20000}}\n"
     ]
    }
   ],
   "source": [
    "data ={'emp1':{'name':'surya','salary':'20000'},\n",
    "        'emp2':{'name':'Navya','salary':'15000'}}\n",
    "data['emp2']['salary']=20000\n",
    "data['emp1']['name']=\"RAj\"\n",
    "print(data)"
   ]
  },
  {
   "cell_type": "code",
   "execution_count": null,
   "metadata": {},
   "outputs": [],
   "source": []
  }
 ],
 "metadata": {
  "kernelspec": {
   "display_name": "Python 3",
   "language": "python",
   "name": "python3"
  },
  "language_info": {
   "codemirror_mode": {
    "name": "ipython",
    "version": 3
   },
   "file_extension": ".py",
   "mimetype": "text/x-python",
   "name": "python",
   "nbconvert_exporter": "python",
   "pygments_lexer": "ipython3",
   "version": "3.8.5"
  }
 },
 "nbformat": 4,
 "nbformat_minor": 4
}
