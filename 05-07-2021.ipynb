{
 "cells": [
  {
   "cell_type": "code",
   "execution_count": 7,
   "metadata": {},
   "outputs": [
    {
     "name": "stdout",
     "output_type": "stream",
     "text": [
      "False\n",
      "True\n"
     ]
    }
   ],
   "source": [
    "# Regular Expressions\n",
    "# Write A program to check that a string contains a certain set of cHARACTERS()(A-Za-z0-9)\n",
    "import re\n",
    "def setcharacters(character):\n",
    "    pattern = '^[a-zA-Z0-9]{10}$'\n",
    "    if re.match(pattern,character):\n",
    "        return True\n",
    "    return False\n",
    "print(setcharacters('Ajay153'))\n",
    "print(setcharacters('Ajay123455'))\n",
    "        "
   ]
  },
  {
   "cell_type": "code",
   "execution_count": 12,
   "metadata": {},
   "outputs": [
    {
     "name": "stdout",
     "output_type": "stream",
     "text": [
      "True\n"
     ]
    }
   ],
   "source": [
    "import re\n",
    "def validate_four_digit_num(n):\n",
    "    pattern = '^[a-zA-Z0-9]{9}$'\n",
    "    if re.match(pattern,n):\n",
    "        return True\n",
    "    return False\n",
    "print(validate_four_digit_num('Surya1234'))\n"
   ]
  },
  {
   "cell_type": "code",
   "execution_count": 14,
   "metadata": {},
   "outputs": [
    {
     "name": "stdout",
     "output_type": "stream",
     "text": [
      "True\n",
      "False\n"
     ]
    }
   ],
   "source": [
    "#function to test two digit number using re\n",
    "import re\n",
    "def twodigit(n):\n",
    "    pattern= '^[0-9]{2}$'\n",
    "    n = str(n)\n",
    "    if re.match(pattern,n):\n",
    "        return True\n",
    "    return False\n",
    "print(twodigit('34'))\n",
    "print(twodigit('123'))"
   ]
  },
  {
   "cell_type": "code",
   "execution_count": 16,
   "metadata": {},
   "outputs": [
    {
     "name": "stdout",
     "output_type": "stream",
     "text": [
      "True\n"
     ]
    }
   ],
   "source": [
    "#Function to test two character using re (a-zA-Z)\n",
    "import re \n",
    "def twocharacters(character):\n",
    "    pattern = '^[a-zA-Z]{2}$'\n",
    "    if re.match(pattern,character):\n",
    "        return True\n",
    "    return False\n",
    "print(twocharacters('Aj'))\n",
    "    "
   ]
  },
  {
   "cell_type": "code",
   "execution_count": 19,
   "metadata": {},
   "outputs": [
    {
     "name": "stdout",
     "output_type": "stream",
     "text": [
      "True\n",
      "False\n"
     ]
    }
   ],
   "source": [
    "#match with this string ab length of string 2 to 3\n",
    "import re \n",
    "def letter(letter):\n",
    "    pattern = '^[abc]{2,4}$'\n",
    "    if re.match(pattern,letter):\n",
    "        return True\n",
    "    return False\n",
    "print(letter('aabc'))\n",
    "print(letter('aabba'))"
   ]
  },
  {
   "cell_type": "code",
   "execution_count": 20,
   "metadata": {},
   "outputs": [
    {
     "name": "stdout",
     "output_type": "stream",
     "text": [
      "True\n",
      "False\n"
     ]
    }
   ],
   "source": [
    "import re \n",
    "def letter(letter):\n",
    "    pattern = '^[123]{2,4}$'\n",
    "    if re.match(pattern,letter):\n",
    "        return True\n",
    "    return False\n",
    "print(letter('1123'))\n",
    "print(letter('aabba'))"
   ]
  },
  {
   "cell_type": "code",
   "execution_count": null,
   "metadata": {},
   "outputs": [],
   "source": []
  }
 ],
 "metadata": {
  "kernelspec": {
   "display_name": "Python 3",
   "language": "python",
   "name": "python3"
  },
  "language_info": {
   "codemirror_mode": {
    "name": "ipython",
    "version": 3
   },
   "file_extension": ".py",
   "mimetype": "text/x-python",
   "name": "python",
   "nbconvert_exporter": "python",
   "pygments_lexer": "ipython3",
   "version": "3.8.5"
  }
 },
 "nbformat": 4,
 "nbformat_minor": 4
}
