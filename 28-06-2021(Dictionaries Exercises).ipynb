{
 "cells": [
  {
   "cell_type": "code",
   "execution_count": 4,
   "metadata": {},
   "outputs": [
    {
     "name": "stdout",
     "output_type": "stream",
     "text": [
      "please enter a key :3\n",
      "yes\n"
     ]
    }
   ],
   "source": [
    "#To check whether a given key already exists in a dictionary.\n",
    "d1={1:2,2:3,3:4,4:5}\n",
    "key = int(input(\"please enter a key :\"))\n",
    "if key in d1:\n",
    "    print(\"yes\")\n",
    "else:\n",
    "    print(\"no\")"
   ]
  },
  {
   "cell_type": "code",
   "execution_count": 7,
   "metadata": {
    "scrolled": true
   },
   "outputs": [
    {
     "name": "stdout",
     "output_type": "stream",
     "text": [
      "Enter a number :5\n",
      "{1: 1, 2: 4, 3: 9, 4: 16, 5: 25}\n"
     ]
    }
   ],
   "source": [
    "#To generate and print a dictionary that contains a numbers between 1 to in the form (x,x*x)\n",
    "#input n=5\n",
    "#output :{1:1,2:4,3:9,4:16,5:25}\n",
    "d1={}\n",
    "n=int(input(\"Enter a number :\"))\n",
    "for key in range(1,n+1):\n",
    "    d1[key]=key**2\n",
    "print(d1)"
   ]
  },
  {
   "cell_type": "code",
   "execution_count": 8,
   "metadata": {},
   "outputs": [
    {
     "name": "stdout",
     "output_type": "stream",
     "text": [
      "35\n"
     ]
    }
   ],
   "source": [
    "#find the sum of all values in dictionary\n",
    "d1={1:5,2:6,3:7,4:8,5:9}\n",
    "print(sum(d1.values()))\n"
   ]
  },
  {
   "cell_type": "code",
   "execution_count": 9,
   "metadata": {},
   "outputs": [
    {
     "name": "stdout",
     "output_type": "stream",
     "text": [
      "35\n"
     ]
    }
   ],
   "source": [
    "#find the sum of all values in dictionary\n",
    "d1={1:5,2:6,3:7,4:8,5:9}\n",
    "sum=0\n",
    "for key,value in d1.items():\n",
    "    sum +=value\n",
    "print(sum)"
   ]
  },
  {
   "cell_type": "code",
   "execution_count": 15,
   "metadata": {},
   "outputs": [
    {
     "name": "stdout",
     "output_type": "stream",
     "text": [
      "15120\n"
     ]
    }
   ],
   "source": [
    "#find the multiplication of all values in dictionary\n",
    "d1={1:5,2:6,3:7,4:8,5:9}\n",
    "mul=1\n",
    "for key,value in d1.items():\n",
    "    mul *= value\n",
    "print(mul)  "
   ]
  },
  {
   "cell_type": "code",
   "execution_count": 17,
   "metadata": {},
   "outputs": [
    {
     "name": "stdout",
     "output_type": "stream",
     "text": [
      "9\n",
      "5\n"
     ]
    }
   ],
   "source": [
    "# find maximum and minimum values from dictionary\n",
    "d1={1:5,2:6,3:7,4:8,5:9}\n",
    "print(max(d1.values()))\n",
    "print(min(d1.values()))\n"
   ]
  },
  {
   "cell_type": "code",
   "execution_count": 18,
   "metadata": {},
   "outputs": [
    {
     "name": "stdout",
     "output_type": "stream",
     "text": [
      "Enter a key :5\n",
      "{1: 5, 2: 6, 3: 7, 4: 8}\n"
     ]
    }
   ],
   "source": [
    "#write a program to remove a  particular  key from dictionary\n",
    "d1={1:5,2:6,3:7,4:8,5:9}\n",
    "key =int(input(\"Enter a key :\"))\n",
    "del d1[key]\n",
    "print(d1)"
   ]
  },
  {
   "cell_type": "code",
   "execution_count": 26,
   "metadata": {},
   "outputs": [
    {
     "name": "stdout",
     "output_type": "stream",
     "text": [
      "{'id1': {'name': ['Ajay'], 'class': ['8']}, 'id2': {'name': ['surya'], 'class': ['9']}}\n"
     ]
    }
   ],
   "source": [
    "#Remove Duplicates\n",
    "sample_data={'id1':{'name':['Ajay'],'class':['8']},\n",
    "             'id2':{'name':['surya'],'class':['9']},\n",
    "              'id3':{'name':['Ajay'],'class':['8']}}\n",
    "result={}\n",
    "for key,value in sample_data.items():\n",
    "    if value not in result.values():\n",
    "        result[key]=value\n",
    "print(result)"
   ]
  },
  {
   "cell_type": "code",
   "execution_count": null,
   "metadata": {},
   "outputs": [],
   "source": []
  }
 ],
 "metadata": {
  "kernelspec": {
   "display_name": "Python 3",
   "language": "python",
   "name": "python3"
  },
  "language_info": {
   "codemirror_mode": {
    "name": "ipython",
    "version": 3
   },
   "file_extension": ".py",
   "mimetype": "text/x-python",
   "name": "python",
   "nbconvert_exporter": "python",
   "pygments_lexer": "ipython3",
   "version": "3.8.5"
  }
 },
 "nbformat": 4,
 "nbformat_minor": 4
}
