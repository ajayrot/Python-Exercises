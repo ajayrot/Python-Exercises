{
 "cells": [
  {
   "cell_type": "code",
   "execution_count": 8,
   "metadata": {},
   "outputs": [],
   "source": [
    "#Changing Line Color\n",
    "import turtle\n",
    "p1 =turtle.Turtle()\n",
    "p1.speed(100)\n",
    "p1.pencolor(\"red\")\n",
    "for i in range(50):\n",
    "    p1.forward(50)#lenght\n",
    "    p1.left(123)# Angle\n",
    "    \n",
    "p1.pencolor(\"blue\")\n",
    "for i in range(50):\n",
    "    p1.forward(100)\n",
    "    p1.left(123)\n",
    "    \n",
    "turtle.done()"
   ]
  },
  {
   "cell_type": "code",
   "execution_count": 15,
   "metadata": {},
   "outputs": [],
   "source": [
    "#hexagon\n",
    "import turtle\n",
    "p1= turtle.Turtle()\n",
    "p1.pencolor(\"red\")\n",
    "\n",
    "sides = 3\n",
    "length = 70\n",
    "angle = 360/sides\n",
    "for i in range(sides):\n",
    "    p1.forward(length)\n",
    "    p1.right(angle)\n",
    "\n",
    "turtle.done()\n"
   ]
  },
  {
   "cell_type": "code",
   "execution_count": 21,
   "metadata": {},
   "outputs": [],
   "source": [
    "#rectangle\n",
    "import turtle \n",
    "p1= turtle.Turtle()\n",
    "p1.pencolor(\"red\")\n",
    "for i in range(1):\n",
    "    p1.forward(100)\n",
    "    p1.left(90)\n",
    "    p1.forward(50)\n",
    "    p1.left(90)\n",
    "    p1.forward(100)\n",
    "    p1.left(90)\n",
    "    p1.forward(50)\n",
    "    p1.left(90)\n",
    "turtle.done()"
   ]
  },
  {
   "cell_type": "code",
   "execution_count": null,
   "metadata": {},
   "outputs": [],
   "source": [
    "import turtle \n",
    "p1= turtle.Turtle()\n",
    "p1.pencolor(\"red\")\n",
    "for i in range(1):\n",
    "    p1.left(20)\n",
    "    \n",
    "    p1.forward(100)\n",
    "    p1.left(90)\n",
    "    p1.forward(100)\n",
    "    p1.left(90)\n",
    "    p1.forward(100)\n",
    "    p1.left(90)\n",
    "    p1.forward(100)\n",
    "    p1.left(90)\n",
    "    \n",
    "    \n",
    "    p1.left(30)\n",
    "    \n",
    "    p1.forward(100)\n",
    "    p1.left(90)\n",
    "    p1.forward(100)\n",
    "    p1.left(90)\n",
    "    p1.forward(100)\n",
    "    p1.left(90)\n",
    "    p1.forward(100)\n",
    "    p1.left(90)\n",
    "  \n",
    "    p1.left(40)\n",
    "\n",
    "    p1.forward(100)\n",
    "    p1.left(90)\n",
    "    p1.forward(100)\n",
    "    p1.left(90)\n",
    "    p1.forward(100)\n",
    "    p1.left(90)\n",
    "    p1.forward(100)\n",
    "    p1.left(90)\n",
    "    \n",
    "turtle.done()"
   ]
  },
  {
   "cell_type": "code",
   "execution_count": null,
   "metadata": {},
   "outputs": [],
   "source": []
  }
 ],
 "metadata": {
  "kernelspec": {
   "display_name": "Python 3",
   "language": "python",
   "name": "python3"
  },
  "language_info": {
   "codemirror_mode": {
    "name": "ipython",
    "version": 3
   },
   "file_extension": ".py",
   "mimetype": "text/x-python",
   "name": "python",
   "nbconvert_exporter": "python",
   "pygments_lexer": "ipython3",
   "version": "3.8.5"
  }
 },
 "nbformat": 4,
 "nbformat_minor": 4
}
