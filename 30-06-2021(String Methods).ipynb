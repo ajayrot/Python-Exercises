{
 "cells": [
  {
   "cell_type": "code",
   "execution_count": 2,
   "metadata": {},
   "outputs": [],
   "source": [
    "def digit_sum_str(s):\n",
    "    d_cnt =0\n",
    "    \n",
    "    for i in range(len(s)):\n",
    "        if ord(s[i]) >=48 and ord(s[i]) <= 57:\n",
    "            k = ord(s[i]) - 48 # k = 0 - 9\n",
    "            d_cnt += k\n",
    "    return d_cnt"
   ]
  },
  {
   "cell_type": "code",
   "execution_count": 6,
   "metadata": {},
   "outputs": [
    {
     "name": "stdout",
     "output_type": "stream",
     "text": [
      "Enter string: ab1234sdf4978\n",
      "total : 38\n"
     ]
    }
   ],
   "source": [
    "inputstring = input(\"Enter string: \" )\n",
    "sum= 0\n",
    "for i in inputstring:\n",
    "        if i.isdigit():\n",
    "            sum += int(i)\n",
    "print(\"total :\",sum)            "
   ]
  },
  {
   "cell_type": "code",
   "execution_count": 9,
   "metadata": {},
   "outputs": [
    {
     "name": "stdout",
     "output_type": "stream",
     "text": [
      "Enter String :aasj2343jkkjnb5kj6787654\n",
      "60\n"
     ]
    }
   ],
   "source": [
    "def sum_digits(s):\n",
    "    sum = 0\n",
    "    for i in s:\n",
    "        if i.isdigit() == True:\n",
    "            sum += int(i)\n",
    "    return sum\n",
    "inputstring = input(\"Enter String :\")\n",
    "print(sum_digits(inputstring))"
   ]
  },
  {
   "cell_type": "code",
   "execution_count": 8,
   "metadata": {},
   "outputs": [
    {
     "name": "stdout",
     "output_type": "stream",
     "text": [
      "38\n"
     ]
    }
   ],
   "source": [
    "print(sum_digits(inputstring))"
   ]
  },
  {
   "cell_type": "code",
   "execution_count": 18,
   "metadata": {},
   "outputs": [
    {
     "name": "stdout",
     "output_type": "stream",
     "text": [
      "Python\n",
      "Langugae\n",
      "is\n",
      "Easy\n",
      "TO\n"
     ]
    }
   ],
   "source": [
    "#print even length words in a string\n",
    "#input :\"Python Programming Langugae is Easy TO learn\"\n",
    "#outout:python\n",
    "    # Langugae\n",
    "    # is\n",
    "    # Easy\n",
    "    # TO\n",
    "def printeven(s):\n",
    "    s = s.split(' ')\n",
    "    for i in s:\n",
    "        if len(i)%2 ==0:\n",
    "            print(i)\n",
    "s= \"Python Programming Langugae is Easy TO learn\"\n",
    "printeven(s)"
   ]
  },
  {
   "cell_type": "code",
   "execution_count": 23,
   "metadata": {},
   "outputs": [
    {
     "name": "stdout",
     "output_type": "stream",
     "text": [
      "no of vowels : 4\n",
      "no of vowels : 11\n"
     ]
    }
   ],
   "source": [
    "# Count number of vowels in given string\n",
    "#input : \"Python Programming\"\n",
    "# \" aeiouAEIOU\"\n",
    "#output:4\n",
    "def vowel(s):\n",
    "    count = 0\n",
    "    vowels = \"aeiouAEIOU\"\n",
    "    for i in s:\n",
    "        if i in vowels:\n",
    "            count =count+1\n",
    "    print(\"no of vowels :\",count)\n",
    "vowel('Python Programming')\n",
    "vowel('Python Is Easy Programming Language')"
   ]
  },
  {
   "cell_type": "code",
   "execution_count": null,
   "metadata": {},
   "outputs": [],
   "source": []
  }
 ],
 "metadata": {
  "kernelspec": {
   "display_name": "Python 3",
   "language": "python",
   "name": "python3"
  },
  "language_info": {
   "codemirror_mode": {
    "name": "ipython",
    "version": 3
   },
   "file_extension": ".py",
   "mimetype": "text/x-python",
   "name": "python",
   "nbconvert_exporter": "python",
   "pygments_lexer": "ipython3",
   "version": "3.8.5"
  }
 },
 "nbformat": 4,
 "nbformat_minor": 4
}
